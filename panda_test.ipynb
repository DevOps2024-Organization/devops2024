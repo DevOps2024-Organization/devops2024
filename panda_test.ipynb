{
 "cells": [
  {
   "cell_type": "code",
   "execution_count": 1,
   "metadata": {},
   "outputs": [
    {
     "name": "stderr",
     "output_type": "stream",
     "text": [
      "c:\\Users\\jackh\\AppData\\Local\\Programs\\Python\\Python310\\lib\\site-packages\\numpy\\_distributor_init.py:30: UserWarning: loaded more than 1 DLL from .libs:\n",
      "c:\\Users\\jackh\\AppData\\Local\\Programs\\Python\\Python310\\lib\\site-packages\\numpy\\.libs\\libopenblas.FB5AE2TYXYH2IJRDKGDGQ3XBKLKTF43H.gfortran-win_amd64.dll\n",
      "c:\\Users\\jackh\\AppData\\Local\\Programs\\Python\\Python310\\lib\\site-packages\\numpy\\.libs\\libopenblas64__v0.3.23-246-g3d31191b-gcc_10_3_0.dll\n",
      "  warnings.warn(\"loaded more than 1 DLL from .libs:\"\n"
     ]
    },
    {
     "name": "stdout",
     "output_type": "stream",
     "text": [
      "      0   1               2           3   4        5   6\n",
      "0  s001   V  Alberto Franco  15/05/2002  35  street1  t1\n",
      "1  s002   V    Gino Mcneill  17/05/2002  32  street2  t2\n",
      "2  s003  VI     Ryan Parkes  16/02/1999  33  street3  t3\n",
      "3  s001  VI    Eesha Hinton  25/09/1998  30  street1  t4\n",
      "4  s002   V    Gino Mcneill  11/05/2002  31  street2  t5\n",
      "5  s004  VI    David Parkes  15/09/1997  32  street4  t6\n",
      "  student_id              name marks\n",
      "0         S1  Danniella Fenton   200\n",
      "1         S2      Ryder Storey   210\n",
      "2         S3      Bryce Jensen   190\n",
      "3         S4         Ed Bernal   222\n",
      "4         S5       Kwame Morin   199\n"
     ]
    }
   ],
   "source": [
    "import re\n",
    "\n",
    "import pandas as pd\n",
    "\n",
    "\n",
    "def extract_table(table_as_string, header=False):\n",
    "    \"\"\"\n",
    "    Extract w3resource table from string.\n",
    "\n",
    "    Parameters\n",
    "    ----------\n",
    "    table_as_string : str\n",
    "        String containing table to extract.\n",
    "    header : bool, optional\n",
    "        Whether table has header or not, by default False\n",
    "        Header is assumed to be the first row.\n",
    "\n",
    "    Returns\n",
    "    -------\n",
    "    pd.DataFrame\n",
    "        Extracted table as a dataframe.\n",
    "    \"\"\"\n",
    "    lines = table_as_string.split(\"\\n\")\n",
    "\n",
    "    # Extract header if needed\n",
    "    if header:\n",
    "        col_names = re.split(r\"\\s{2,}\", lines[0].strip())\n",
    "        lines = lines[1:]\n",
    "\n",
    "    # get index col\n",
    "    lines = [re.split(r\"\\s{2,}\", line.strip()) for line in lines]\n",
    "    idx = [line.pop(0) for line in lines]\n",
    "\n",
    "    # Create dataframe\n",
    "    if header:\n",
    "        df = pd.DataFrame(lines, columns=col_names, index=idx)\n",
    "    else:\n",
    "        df = pd.DataFrame(lines, index=idx)\n",
    "\n",
    "    return df\n",
    "if __name__ == \"__main__\":\n",
    "    # Example of usage\n",
    "    test_1 = \"\"\"0        s001     V  Alberto Franco     15/05/2002      35  street1   t1\n",
    "    1        s002     V    Gino Mcneill     17/05/2002      32  street2   t2\n",
    "    2        s003    VI     Ryan Parkes     16/02/1999      33  street3   t3\n",
    "    3        s001    VI    Eesha Hinton     25/09/1998      30  street1   t4\n",
    "    4        s002     V    Gino Mcneill     11/05/2002      31  street2   t5\n",
    "    5        s004    VI    David Parkes     15/09/1997      32  street4   t6\"\"\"\n",
    "\n",
    "    test_2 = \"\"\"  student_id              name  marks\n",
    "    0         S1  Danniella Fenton    200\n",
    "    1         S2      Ryder Storey    210\n",
    "    2         S3      Bryce Jensen    190\n",
    "    3         S4         Ed Bernal    222\n",
    "    4         S5       Kwame Morin    199\"\"\"\n",
    "\n",
    "    print(extract_table(test_1))\n",
    "\n",
    "\n",
    "    print(extract_table(test_2, header=True))"
   ]
  }
 ],
 "metadata": {
  "kernelspec": {
   "display_name": "Python 3",
   "language": "python",
   "name": "python3"
  },
  "language_info": {
   "codemirror_mode": {
    "name": "ipython",
    "version": 3
   },
   "file_extension": ".py",
   "mimetype": "text/x-python",
   "name": "python",
   "nbconvert_exporter": "python",
   "pygments_lexer": "ipython3",
   "version": "3.10.10"
  }
 },
 "nbformat": 4,
 "nbformat_minor": 2
}
